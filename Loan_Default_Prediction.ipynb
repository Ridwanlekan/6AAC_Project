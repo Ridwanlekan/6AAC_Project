{
 "cells": [
  {
   "cell_type": "markdown",
   "metadata": {},
   "source": [
    "#### Importing Libraries"
   ]
  },
  {
   "cell_type": "code",
   "execution_count": 1,
   "metadata": {},
   "outputs": [],
   "source": [
    "import pandas as pd\n",
    "import numpy as np\n",
    "import matplotlib.pyplot as plt\n",
    "%matplotlib inline\n",
    "import seaborn as sns\n",
    "import matplotlib.style as style\n",
    "plt.style.use('fivethirtyeight')\n",
    "import warnings\n",
    "def ignore_warn(*args, **kwargs):\n",
    "    pass\n",
    "warnings.warn =ignore_warn #warnings from sklearn and seaborn"
   ]
  },
  {
   "cell_type": "markdown",
   "metadata": {},
   "source": [
    "#### Importing Datasets"
   ]
  },
  {
   "cell_type": "code",
   "execution_count": 2,
   "metadata": {},
   "outputs": [],
   "source": [
    "df_train = pd.read_csv('./data/trainprevloans_new.csv')\n",
    "df_test = pd.read_csv('./data/testprevloans_new.csv')"
   ]
  },
  {
   "cell_type": "code",
   "execution_count": 3,
   "metadata": {},
   "outputs": [
    {
     "data": {
      "text/html": [
       "<div>\n",
       "<style scoped>\n",
       "    .dataframe tbody tr th:only-of-type {\n",
       "        vertical-align: middle;\n",
       "    }\n",
       "\n",
       "    .dataframe tbody tr th {\n",
       "        vertical-align: top;\n",
       "    }\n",
       "\n",
       "    .dataframe thead th {\n",
       "        text-align: right;\n",
       "    }\n",
       "</style>\n",
       "<table border=\"1\" class=\"dataframe\">\n",
       "  <thead>\n",
       "    <tr style=\"text-align: right;\">\n",
       "      <th></th>\n",
       "      <th>customerid</th>\n",
       "      <th>systemloanid</th>\n",
       "      <th>loannumber</th>\n",
       "      <th>loanamount</th>\n",
       "      <th>totaldue</th>\n",
       "      <th>termdays</th>\n",
       "      <th>closeddate</th>\n",
       "      <th>referredby</th>\n",
       "      <th>Convert_creationdate</th>\n",
       "      <th>Convert_approved_date</th>\n",
       "      <th>Convert_firstduedate</th>\n",
       "      <th>Convert_firstrepaiddate</th>\n",
       "      <th>bank_account_type</th>\n",
       "      <th>longitude_gps</th>\n",
       "      <th>latitude_gps</th>\n",
       "      <th>bank_name_clients</th>\n",
       "      <th>employment_status_clients</th>\n",
       "      <th>level_of_education_clients</th>\n",
       "      <th>Age</th>\n",
       "      <th>Status</th>\n",
       "    </tr>\n",
       "  </thead>\n",
       "  <tbody>\n",
       "    <tr>\n",
       "      <td>0</td>\n",
       "      <td>8a2a81a74ce8c05d014cfb32a0da1049</td>\n",
       "      <td>301682320</td>\n",
       "      <td>2</td>\n",
       "      <td>10000</td>\n",
       "      <td>13000.0</td>\n",
       "      <td>30</td>\n",
       "      <td>06:48.0</td>\n",
       "      <td>No_referee</td>\n",
       "      <td>8/15/2016 17:22</td>\n",
       "      <td>8/15/2016 18:22</td>\n",
       "      <td>9/14/2016 0:00</td>\n",
       "      <td>9/1/2016 15:51</td>\n",
       "      <td>Other</td>\n",
       "      <td>3.43201</td>\n",
       "      <td>6.433055</td>\n",
       "      <td>Diamond Bank</td>\n",
       "      <td>Permanent</td>\n",
       "      <td>Post-Graduate</td>\n",
       "      <td>48</td>\n",
       "      <td>0</td>\n",
       "    </tr>\n",
       "    <tr>\n",
       "      <td>1</td>\n",
       "      <td>8a2a81a74ce8c05d014cfb32a0da1049</td>\n",
       "      <td>301883808</td>\n",
       "      <td>9</td>\n",
       "      <td>10000</td>\n",
       "      <td>13000.0</td>\n",
       "      <td>30</td>\n",
       "      <td>44:49.0</td>\n",
       "      <td>No_referee</td>\n",
       "      <td>4/28/2017 17:38</td>\n",
       "      <td>4/28/2017 18:39</td>\n",
       "      <td>5/30/2017 0:00</td>\n",
       "      <td>5/26/2017 0:00</td>\n",
       "      <td>Other</td>\n",
       "      <td>3.43201</td>\n",
       "      <td>6.433055</td>\n",
       "      <td>Diamond Bank</td>\n",
       "      <td>Permanent</td>\n",
       "      <td>Post-Graduate</td>\n",
       "      <td>48</td>\n",
       "      <td>0</td>\n",
       "    </tr>\n",
       "    <tr>\n",
       "      <td>2</td>\n",
       "      <td>8a2a81a74ce8c05d014cfb32a0da1049</td>\n",
       "      <td>301831714</td>\n",
       "      <td>8</td>\n",
       "      <td>20000</td>\n",
       "      <td>23800.0</td>\n",
       "      <td>30</td>\n",
       "      <td>18:56.0</td>\n",
       "      <td>No_referee</td>\n",
       "      <td>3/5/2017 9:56</td>\n",
       "      <td>3/5/2017 10:56</td>\n",
       "      <td>4/4/2017 0:00</td>\n",
       "      <td>4/26/2017 22:03</td>\n",
       "      <td>Other</td>\n",
       "      <td>3.43201</td>\n",
       "      <td>6.433055</td>\n",
       "      <td>Diamond Bank</td>\n",
       "      <td>Permanent</td>\n",
       "      <td>Post-Graduate</td>\n",
       "      <td>48</td>\n",
       "      <td>1</td>\n",
       "    </tr>\n",
       "    <tr>\n",
       "      <td>3</td>\n",
       "      <td>8a2a81a74ce8c05d014cfb32a0da1049</td>\n",
       "      <td>301923941</td>\n",
       "      <td>10</td>\n",
       "      <td>20000</td>\n",
       "      <td>24500.0</td>\n",
       "      <td>30</td>\n",
       "      <td>24:06.0</td>\n",
       "      <td>No_referee</td>\n",
       "      <td>6/1/2017 12:34</td>\n",
       "      <td>6/1/2017 13:34</td>\n",
       "      <td>7/3/2017 0:00</td>\n",
       "      <td>6/25/2017 15:13</td>\n",
       "      <td>Other</td>\n",
       "      <td>3.43201</td>\n",
       "      <td>6.433055</td>\n",
       "      <td>Diamond Bank</td>\n",
       "      <td>Permanent</td>\n",
       "      <td>Post-Graduate</td>\n",
       "      <td>48</td>\n",
       "      <td>0</td>\n",
       "    </tr>\n",
       "    <tr>\n",
       "      <td>4</td>\n",
       "      <td>8a2a81a74ce8c05d014cfb32a0da1049</td>\n",
       "      <td>301954468</td>\n",
       "      <td>11</td>\n",
       "      <td>20000</td>\n",
       "      <td>24500.0</td>\n",
       "      <td>30</td>\n",
       "      <td>14:36.0</td>\n",
       "      <td>No_referee</td>\n",
       "      <td>6/28/2017 9:58</td>\n",
       "      <td>6/28/2017 10:58</td>\n",
       "      <td>7/31/2017 0:00</td>\n",
       "      <td>7/25/2017 8:04</td>\n",
       "      <td>Other</td>\n",
       "      <td>3.43201</td>\n",
       "      <td>6.433055</td>\n",
       "      <td>Diamond Bank</td>\n",
       "      <td>Permanent</td>\n",
       "      <td>Post-Graduate</td>\n",
       "      <td>48</td>\n",
       "      <td>0</td>\n",
       "    </tr>\n",
       "  </tbody>\n",
       "</table>\n",
       "</div>"
      ],
      "text/plain": [
       "                         customerid  systemloanid  loannumber  loanamount  \\\n",
       "0  8a2a81a74ce8c05d014cfb32a0da1049     301682320           2       10000   \n",
       "1  8a2a81a74ce8c05d014cfb32a0da1049     301883808           9       10000   \n",
       "2  8a2a81a74ce8c05d014cfb32a0da1049     301831714           8       20000   \n",
       "3  8a2a81a74ce8c05d014cfb32a0da1049     301923941          10       20000   \n",
       "4  8a2a81a74ce8c05d014cfb32a0da1049     301954468          11       20000   \n",
       "\n",
       "   totaldue  termdays closeddate  referredby Convert_creationdate  \\\n",
       "0   13000.0        30    06:48.0  No_referee      8/15/2016 17:22   \n",
       "1   13000.0        30    44:49.0  No_referee      4/28/2017 17:38   \n",
       "2   23800.0        30    18:56.0  No_referee        3/5/2017 9:56   \n",
       "3   24500.0        30    24:06.0  No_referee       6/1/2017 12:34   \n",
       "4   24500.0        30    14:36.0  No_referee       6/28/2017 9:58   \n",
       "\n",
       "  Convert_approved_date Convert_firstduedate Convert_firstrepaiddate  \\\n",
       "0       8/15/2016 18:22       9/14/2016 0:00          9/1/2016 15:51   \n",
       "1       4/28/2017 18:39       5/30/2017 0:00          5/26/2017 0:00   \n",
       "2        3/5/2017 10:56        4/4/2017 0:00         4/26/2017 22:03   \n",
       "3        6/1/2017 13:34        7/3/2017 0:00         6/25/2017 15:13   \n",
       "4       6/28/2017 10:58       7/31/2017 0:00          7/25/2017 8:04   \n",
       "\n",
       "  bank_account_type  longitude_gps  latitude_gps bank_name_clients  \\\n",
       "0             Other        3.43201      6.433055      Diamond Bank   \n",
       "1             Other        3.43201      6.433055      Diamond Bank   \n",
       "2             Other        3.43201      6.433055      Diamond Bank   \n",
       "3             Other        3.43201      6.433055      Diamond Bank   \n",
       "4             Other        3.43201      6.433055      Diamond Bank   \n",
       "\n",
       "  employment_status_clients level_of_education_clients  Age  Status  \n",
       "0                 Permanent              Post-Graduate   48       0  \n",
       "1                 Permanent              Post-Graduate   48       0  \n",
       "2                 Permanent              Post-Graduate   48       1  \n",
       "3                 Permanent              Post-Graduate   48       0  \n",
       "4                 Permanent              Post-Graduate   48       0  "
      ]
     },
     "execution_count": 3,
     "metadata": {},
     "output_type": "execute_result"
    }
   ],
   "source": [
    "df_train.head() #print the first five rows of the dataset"
   ]
  },
  {
   "cell_type": "markdown",
   "metadata": {},
   "source": [
    "#### Data Exploration"
   ]
  },
  {
   "cell_type": "code",
   "execution_count": 4,
   "metadata": {},
   "outputs": [
    {
     "name": "stdout",
     "output_type": "stream",
     "text": [
      "<class 'pandas.core.frame.DataFrame'>\n",
      "RangeIndex: 13693 entries, 0 to 13692\n",
      "Data columns (total 20 columns):\n",
      "customerid                    13693 non-null object\n",
      "systemloanid                  13693 non-null int64\n",
      "loannumber                    13693 non-null int64\n",
      "loanamount                    13693 non-null int64\n",
      "totaldue                      13693 non-null float64\n",
      "termdays                      13693 non-null int64\n",
      "closeddate                    13693 non-null object\n",
      "referredby                    13693 non-null object\n",
      "Convert_creationdate          13693 non-null object\n",
      "Convert_approved_date         13693 non-null object\n",
      "Convert_firstduedate          13693 non-null object\n",
      "Convert_firstrepaiddate       13693 non-null object\n",
      "bank_account_type             13693 non-null object\n",
      "longitude_gps                 13693 non-null float64\n",
      "latitude_gps                  13693 non-null float64\n",
      "bank_name_clients             13693 non-null object\n",
      "employment_status_clients     13693 non-null object\n",
      "level_of_education_clients    13693 non-null object\n",
      "Age                           13693 non-null int64\n",
      "Status                        13693 non-null int64\n",
      "dtypes: float64(3), int64(6), object(11)\n",
      "memory usage: 2.1+ MB\n"
     ]
    }
   ],
   "source": [
    "df_train.info() #detailed information about the dataset"
   ]
  },
  {
   "cell_type": "code",
   "execution_count": 5,
   "metadata": {},
   "outputs": [
    {
     "data": {
      "text/html": [
       "<div>\n",
       "<style scoped>\n",
       "    .dataframe tbody tr th:only-of-type {\n",
       "        vertical-align: middle;\n",
       "    }\n",
       "\n",
       "    .dataframe tbody tr th {\n",
       "        vertical-align: top;\n",
       "    }\n",
       "\n",
       "    .dataframe thead th {\n",
       "        text-align: right;\n",
       "    }\n",
       "</style>\n",
       "<table border=\"1\" class=\"dataframe\">\n",
       "  <thead>\n",
       "    <tr style=\"text-align: right;\">\n",
       "      <th></th>\n",
       "      <th>systemloanid</th>\n",
       "      <th>loannumber</th>\n",
       "      <th>loanamount</th>\n",
       "      <th>totaldue</th>\n",
       "      <th>termdays</th>\n",
       "      <th>longitude_gps</th>\n",
       "      <th>latitude_gps</th>\n",
       "      <th>Age</th>\n",
       "      <th>Status</th>\n",
       "    </tr>\n",
       "  </thead>\n",
       "  <tbody>\n",
       "    <tr>\n",
       "      <td>count</td>\n",
       "      <td>1.369300e+04</td>\n",
       "      <td>13693.000000</td>\n",
       "      <td>13693.000000</td>\n",
       "      <td>13693.000000</td>\n",
       "      <td>13693.000000</td>\n",
       "      <td>13693.000000</td>\n",
       "      <td>13693.000000</td>\n",
       "      <td>13693.000000</td>\n",
       "      <td>13693.000000</td>\n",
       "    </tr>\n",
       "    <tr>\n",
       "      <td>mean</td>\n",
       "      <td>3.018395e+08</td>\n",
       "      <td>4.200760</td>\n",
       "      <td>16566.347769</td>\n",
       "      <td>19646.612269</td>\n",
       "      <td>26.742131</td>\n",
       "      <td>4.482207</td>\n",
       "      <td>7.291442</td>\n",
       "      <td>34.955233</td>\n",
       "      <td>0.361353</td>\n",
       "    </tr>\n",
       "    <tr>\n",
       "      <td>std</td>\n",
       "      <td>9.304690e+04</td>\n",
       "      <td>3.269552</td>\n",
       "      <td>9375.687619</td>\n",
       "      <td>10512.238823</td>\n",
       "      <td>10.997624</td>\n",
       "      <td>8.639590</td>\n",
       "      <td>3.436232</td>\n",
       "      <td>6.133220</td>\n",
       "      <td>0.480410</td>\n",
       "    </tr>\n",
       "    <tr>\n",
       "      <td>min</td>\n",
       "      <td>3.016001e+08</td>\n",
       "      <td>1.000000</td>\n",
       "      <td>3000.000000</td>\n",
       "      <td>3900.000000</td>\n",
       "      <td>15.000000</td>\n",
       "      <td>-118.247009</td>\n",
       "      <td>-33.868818</td>\n",
       "      <td>23.000000</td>\n",
       "      <td>0.000000</td>\n",
       "    </tr>\n",
       "    <tr>\n",
       "      <td>25%</td>\n",
       "      <td>3.017767e+08</td>\n",
       "      <td>2.000000</td>\n",
       "      <td>10000.000000</td>\n",
       "      <td>11500.000000</td>\n",
       "      <td>15.000000</td>\n",
       "      <td>3.354793</td>\n",
       "      <td>6.471885</td>\n",
       "      <td>31.000000</td>\n",
       "      <td>0.000000</td>\n",
       "    </tr>\n",
       "    <tr>\n",
       "      <td>50%</td>\n",
       "      <td>3.018545e+08</td>\n",
       "      <td>3.000000</td>\n",
       "      <td>10000.000000</td>\n",
       "      <td>13000.000000</td>\n",
       "      <td>30.000000</td>\n",
       "      <td>3.576022</td>\n",
       "      <td>6.617633</td>\n",
       "      <td>34.000000</td>\n",
       "      <td>0.000000</td>\n",
       "    </tr>\n",
       "    <tr>\n",
       "      <td>75%</td>\n",
       "      <td>3.019193e+08</td>\n",
       "      <td>6.000000</td>\n",
       "      <td>20000.000000</td>\n",
       "      <td>24500.000000</td>\n",
       "      <td>30.000000</td>\n",
       "      <td>6.364658</td>\n",
       "      <td>7.421333</td>\n",
       "      <td>39.000000</td>\n",
       "      <td>1.000000</td>\n",
       "    </tr>\n",
       "    <tr>\n",
       "      <td>max</td>\n",
       "      <td>3.020003e+08</td>\n",
       "      <td>26.000000</td>\n",
       "      <td>60000.000000</td>\n",
       "      <td>68100.000000</td>\n",
       "      <td>90.000000</td>\n",
       "      <td>151.209290</td>\n",
       "      <td>71.228069</td>\n",
       "      <td>58.000000</td>\n",
       "      <td>1.000000</td>\n",
       "    </tr>\n",
       "  </tbody>\n",
       "</table>\n",
       "</div>"
      ],
      "text/plain": [
       "       systemloanid    loannumber    loanamount      totaldue      termdays  \\\n",
       "count  1.369300e+04  13693.000000  13693.000000  13693.000000  13693.000000   \n",
       "mean   3.018395e+08      4.200760  16566.347769  19646.612269     26.742131   \n",
       "std    9.304690e+04      3.269552   9375.687619  10512.238823     10.997624   \n",
       "min    3.016001e+08      1.000000   3000.000000   3900.000000     15.000000   \n",
       "25%    3.017767e+08      2.000000  10000.000000  11500.000000     15.000000   \n",
       "50%    3.018545e+08      3.000000  10000.000000  13000.000000     30.000000   \n",
       "75%    3.019193e+08      6.000000  20000.000000  24500.000000     30.000000   \n",
       "max    3.020003e+08     26.000000  60000.000000  68100.000000     90.000000   \n",
       "\n",
       "       longitude_gps  latitude_gps           Age        Status  \n",
       "count   13693.000000  13693.000000  13693.000000  13693.000000  \n",
       "mean        4.482207      7.291442     34.955233      0.361353  \n",
       "std         8.639590      3.436232      6.133220      0.480410  \n",
       "min      -118.247009    -33.868818     23.000000      0.000000  \n",
       "25%         3.354793      6.471885     31.000000      0.000000  \n",
       "50%         3.576022      6.617633     34.000000      0.000000  \n",
       "75%         6.364658      7.421333     39.000000      1.000000  \n",
       "max       151.209290     71.228069     58.000000      1.000000  "
      ]
     },
     "execution_count": 5,
     "metadata": {},
     "output_type": "execute_result"
    }
   ],
   "source": [
    "df_train.describe() #descriptive statistics for the numerical features"
   ]
  },
  {
   "cell_type": "code",
   "execution_count": 6,
   "metadata": {},
   "outputs": [
    {
     "data": {
      "text/html": [
       "<div>\n",
       "<style scoped>\n",
       "    .dataframe tbody tr th:only-of-type {\n",
       "        vertical-align: middle;\n",
       "    }\n",
       "\n",
       "    .dataframe tbody tr th {\n",
       "        vertical-align: top;\n",
       "    }\n",
       "\n",
       "    .dataframe thead th {\n",
       "        text-align: right;\n",
       "    }\n",
       "</style>\n",
       "<table border=\"1\" class=\"dataframe\">\n",
       "  <thead>\n",
       "    <tr style=\"text-align: right;\">\n",
       "      <th></th>\n",
       "      <th>customerid</th>\n",
       "      <th>closeddate</th>\n",
       "      <th>referredby</th>\n",
       "      <th>Convert_creationdate</th>\n",
       "      <th>Convert_approved_date</th>\n",
       "      <th>Convert_firstduedate</th>\n",
       "      <th>Convert_firstrepaiddate</th>\n",
       "      <th>bank_account_type</th>\n",
       "      <th>bank_name_clients</th>\n",
       "      <th>employment_status_clients</th>\n",
       "      <th>level_of_education_clients</th>\n",
       "    </tr>\n",
       "  </thead>\n",
       "  <tbody>\n",
       "    <tr>\n",
       "      <td>count</td>\n",
       "      <td>13693</td>\n",
       "      <td>13693</td>\n",
       "      <td>13693</td>\n",
       "      <td>13693</td>\n",
       "      <td>13693</td>\n",
       "      <td>13693</td>\n",
       "      <td>13693</td>\n",
       "      <td>13693</td>\n",
       "      <td>13693</td>\n",
       "      <td>13693</td>\n",
       "      <td>13693</td>\n",
       "    </tr>\n",
       "    <tr>\n",
       "      <td>unique</td>\n",
       "      <td>3264</td>\n",
       "      <td>3506</td>\n",
       "      <td>408</td>\n",
       "      <td>13350</td>\n",
       "      <td>13304</td>\n",
       "      <td>363</td>\n",
       "      <td>13069</td>\n",
       "      <td>3</td>\n",
       "      <td>18</td>\n",
       "      <td>7</td>\n",
       "      <td>5</td>\n",
       "    </tr>\n",
       "    <tr>\n",
       "      <td>top</td>\n",
       "      <td>8a858f7d5578012a01557ea194d94948</td>\n",
       "      <td>05:34.0</td>\n",
       "      <td>No_referee</td>\n",
       "      <td>6/16/2017 14:23</td>\n",
       "      <td>12/5/2016 12:36</td>\n",
       "      <td>7/3/2017 0:00</td>\n",
       "      <td>12/7/2016 9:36</td>\n",
       "      <td>Savings</td>\n",
       "      <td>GT Bank</td>\n",
       "      <td>Permanent</td>\n",
       "      <td>Unknow</td>\n",
       "    </tr>\n",
       "    <tr>\n",
       "      <td>freq</td>\n",
       "      <td>26</td>\n",
       "      <td>14</td>\n",
       "      <td>12891</td>\n",
       "      <td>3</td>\n",
       "      <td>4</td>\n",
       "      <td>304</td>\n",
       "      <td>9</td>\n",
       "      <td>8311</td>\n",
       "      <td>5034</td>\n",
       "      <td>9138</td>\n",
       "      <td>10229</td>\n",
       "    </tr>\n",
       "  </tbody>\n",
       "</table>\n",
       "</div>"
      ],
      "text/plain": [
       "                              customerid closeddate  referredby  \\\n",
       "count                              13693      13693       13693   \n",
       "unique                              3264       3506         408   \n",
       "top     8a858f7d5578012a01557ea194d94948    05:34.0  No_referee   \n",
       "freq                                  26         14       12891   \n",
       "\n",
       "       Convert_creationdate Convert_approved_date Convert_firstduedate  \\\n",
       "count                 13693                 13693                13693   \n",
       "unique                13350                 13304                  363   \n",
       "top         6/16/2017 14:23       12/5/2016 12:36        7/3/2017 0:00   \n",
       "freq                      3                     4                  304   \n",
       "\n",
       "       Convert_firstrepaiddate bank_account_type bank_name_clients  \\\n",
       "count                    13693             13693             13693   \n",
       "unique                   13069                 3                18   \n",
       "top             12/7/2016 9:36           Savings           GT Bank   \n",
       "freq                         9              8311              5034   \n",
       "\n",
       "       employment_status_clients level_of_education_clients  \n",
       "count                      13693                      13693  \n",
       "unique                         7                          5  \n",
       "top                    Permanent                     Unknow  \n",
       "freq                        9138                      10229  "
      ]
     },
     "execution_count": 6,
     "metadata": {},
     "output_type": "execute_result"
    }
   ],
   "source": [
    "df_train.describe(include=[np.object, pd.Categorical]) #descriptive statistics for the categorical features"
   ]
  },
  {
   "cell_type": "code",
   "execution_count": 7,
   "metadata": {},
   "outputs": [
    {
     "name": "stdout",
     "output_type": "stream",
     "text": [
      "shape before removing duplicate rows: (13693, 20)\n",
      "shape after removing duplicate rows: (13693, 20)\n"
     ]
    }
   ],
   "source": [
    "print('shape before removing duplicate rows:', df_train.shape)\n",
    "df_train.drop_duplicates()\n",
    "print('shape after removing duplicate rows:', df_train.shape)"
   ]
  },
  {
   "cell_type": "code",
   "execution_count": 8,
   "metadata": {},
   "outputs": [
    {
     "data": {
      "text/plain": [
       "customerid                    0\n",
       "systemloanid                  0\n",
       "loannumber                    0\n",
       "loanamount                    0\n",
       "totaldue                      0\n",
       "termdays                      0\n",
       "closeddate                    0\n",
       "referredby                    0\n",
       "Convert_creationdate          0\n",
       "Convert_approved_date         0\n",
       "Convert_firstduedate          0\n",
       "Convert_firstrepaiddate       0\n",
       "bank_account_type             0\n",
       "longitude_gps                 0\n",
       "latitude_gps                  0\n",
       "bank_name_clients             0\n",
       "employment_status_clients     0\n",
       "level_of_education_clients    0\n",
       "Age                           0\n",
       "Status                        0\n",
       "dtype: int64"
      ]
     },
     "execution_count": 8,
     "metadata": {},
     "output_type": "execute_result"
    }
   ],
   "source": [
    "## check for number of missing values\n",
    "df_train.isnull().sum() #there are no missing values in the dataset"
   ]
  },
  {
   "cell_type": "code",
   "execution_count": 9,
   "metadata": {},
   "outputs": [
    {
     "data": {
      "text/plain": [
       "systemloanid    -0.043794\n",
       "loannumber       0.007144\n",
       "loanamount       0.007081\n",
       "totaldue         0.014194\n",
       "termdays         0.064210\n",
       "longitude_gps   -0.003616\n",
       "latitude_gps    -0.013345\n",
       "Age             -0.002689\n",
       "Status           1.000000\n",
       "Name: Status, dtype: float64"
      ]
     },
     "execution_count": 9,
     "metadata": {},
     "output_type": "execute_result"
    }
   ],
   "source": [
    "## correlation of the target feature with the other numerical features\n",
    "df_train.corr()['Status'] # the loan number and loanamount have almost the same correlation.Hence, the loan number will be dropped for prediciton of status"
   ]
  },
  {
   "cell_type": "code",
   "execution_count": 10,
   "metadata": {},
   "outputs": [
    {
     "name": "stdout",
     "output_type": "stream",
     "text": [
      "Number of unique termdays 4\n",
      "Number of unique Status 2\n",
      "Number of unique bank_account_type 3\n",
      "Number of unique bank_name_clients 18\n",
      "Number of unique employment_status_clients 7\n",
      "Number of unique level_of_education_clients 5\n"
     ]
    }
   ],
   "source": [
    "## checking for categories\n",
    "cat_col = ['termdays', 'Status', 'bank_account_type',\n",
    "       'bank_name_clients', 'employment_status_clients','level_of_education_clients']\n",
    "for cat in cat_col:\n",
    "    print('Number of unique {}'.format(cat),df_train[cat].nunique())"
   ]
  },
  {
   "cell_type": "code",
   "execution_count": 11,
   "metadata": {},
   "outputs": [
    {
     "name": "stdout",
     "output_type": "stream",
     "text": [
      "[30 15 60 90]\n",
      "[0 1]\n",
      "['Other' 'Savings' 'Current']\n",
      "['Diamond Bank' 'EcoBank' 'First Bank' 'GT Bank' 'UBA' 'Union Bank' 'FCMB'\n",
      " 'Access Bank' 'Zenith Bank' 'Fidelity Bank' 'Stanbic IBTC' 'Skye Bank'\n",
      " 'Sterling Bank' 'Wema Bank' 'Keystone Bank' 'Unity Bank' 'Heritage Bank'\n",
      " 'Standard Chartered']\n",
      "['Permanent' 'Unknown' 'Self-Employed' 'Student' 'Unemployed' 'Retired'\n",
      " 'Contract']\n",
      "['Post-Graduate' 'Unknow' 'Primary' 'Graduate' 'Secondary']\n"
     ]
    }
   ],
   "source": [
    "# unique features from each category\n",
    "unique_cat_col = ['termdays', 'Status', 'bank_account_type',\n",
    "       'bank_name_clients', 'employment_status_clients','level_of_education_clients']\n",
    "for cat in unique_cat_col:\n",
    "    print(df_train[cat].unique())"
   ]
  },
  {
   "cell_type": "code",
   "execution_count": 12,
   "metadata": {},
   "outputs": [
    {
     "name": "stdout",
     "output_type": "stream",
     "text": [
      "30    8318\n",
      "15    4590\n",
      "60     762\n",
      "90      23\n",
      "Name: termdays, dtype: int64\n",
      "\n",
      "0    8745\n",
      "1    4948\n",
      "Name: Status, dtype: int64\n",
      "\n",
      "Savings    8311\n",
      "Other      5228\n",
      "Current     154\n",
      "Name: bank_account_type, dtype: int64\n",
      "\n",
      "GT Bank               5034\n",
      "First Bank            1932\n",
      "Access Bank           1270\n",
      "UBA                   1126\n",
      "Diamond Bank           983\n",
      "Zenith Bank            948\n",
      "Stanbic IBTC           489\n",
      "EcoBank                450\n",
      "FCMB                   420\n",
      "Skye Bank              272\n",
      "Fidelity Bank          267\n",
      "Sterling Bank          112\n",
      "Wema Bank               88\n",
      "Heritage Bank           87\n",
      "Keystone Bank           83\n",
      "Union Bank              74\n",
      "Standard Chartered      44\n",
      "Unity Bank              14\n",
      "Name: bank_name_clients, dtype: int64\n",
      "\n",
      "Permanent        9138\n",
      "Self-Employed    2319\n",
      "Unknown          1363\n",
      "Student           615\n",
      "Unemployed        219\n",
      "Retired            29\n",
      "Contract           10\n",
      "Name: employment_status_clients, dtype: int64\n",
      "\n",
      "Unknow           10229\n",
      "Graduate          2508\n",
      "Secondary          485\n",
      "Post-Graduate      435\n",
      "Primary             36\n",
      "Name: level_of_education_clients, dtype: int64\n",
      "\n"
     ]
    }
   ],
   "source": [
    "#count the unique values in each category\n",
    "cols = ['termdays', 'Status', 'bank_account_type',\n",
    "       'bank_name_clients', 'employment_status_clients','level_of_education_clients']\n",
    "for col in cols:\n",
    "    print(df_train[col].value_counts())\n",
    "    print()"
   ]
  },
  {
   "cell_type": "markdown",
   "metadata": {},
   "source": [
    "#### Feature Engineering"
   ]
  },
  {
   "cell_type": "code",
   "execution_count": 13,
   "metadata": {},
   "outputs": [],
   "source": [
    "#regroup features to eliminate some of the outliers and avoid biasness in prediction\n",
    "education_level = {'Unknow':'Unknown', 'Primary':'Unknown'}\n",
    "employment_status = {'Student':'Other','Unemployed':'Other','Retired':'Other','Contract':'Other'}\n",
    "term_days = {60:'>30', 90:'>30'}\n",
    "account_type = {'Other':'Other', 'Current':'Other'}\n",
    "bank_name = {'Wema Bank':'Other', 'Heritage Bank':'Other', 'Keystone Bank':'Other','Standard Chartered':'Other',\n",
    "             'Unity Bank':'Other', 'Union Bank':'Other', 'Sterling Bank':'Other'}\n",
    "datasets=[df_train, df_test]\n",
    "for dataset in datasets:\n",
    "    dataset['termdays']=dataset['termdays'].replace(term_days)\n",
    "    dataset['bank_account_type']=dataset['bank_account_type'].replace(account_type)\n",
    "    dataset['bank_name_clients'] = dataset['bank_name_clients'].replace(bank_name)\n",
    "    dataset['level_of_education_clients'] = dataset['level_of_education_clients'].replace(education_level)\n",
    "    dataset['employment_status_clients'] = dataset['employment_status_clients'].replace(employment_status)"
   ]
  },
  {
   "cell_type": "markdown",
   "metadata": {},
   "source": [
    "#### Visualization"
   ]
  },
  {
   "cell_type": "code",
   "execution_count": 14,
   "metadata": {},
   "outputs": [
    {
     "data": {
      "text/plain": [
       "<matplotlib.axes._subplots.AxesSubplot at 0x22223b5c388>"
      ]
     },
     "execution_count": 14,
     "metadata": {},
     "output_type": "execute_result"
    },
    {
     "data": {
      "image/png": "[encoded data removed]",
      "text/plain": [
       "<Figure size 360x288 with 2 Axes>"
      ]
     },
     "metadata": {
      "needs_background": "light"
     },
     "output_type": "display_data"
    }
   ],
   "source": [
    "#Heatmap to show the relationnship among the numerical features\n",
    "corrmat= df_train.corr()\n",
    "f, ax =plt.subplots(figsize=(5,4))\n",
    "sns.heatmap(corrmat, square=True)"
   ]
  },
  {
   "cell_type": "code",
   "execution_count": 15,
   "metadata": {},
   "outputs": [
    {
     "name": "stdout",
     "output_type": "stream",
     "text": [
      "Not Defaulted    0.638647\n",
      "Defaulted        0.361353\n",
      "Name: Status, dtype: float64\n"
     ]
    },
    {
     "data": {
      "image/png": "[encoded data removed]",
      "text/plain": [
       "<Figure size 432x288 with 1 Axes>"
      ]
     },
     "metadata": {
      "needs_background": "light"
     },
     "output_type": "display_data"
    }
   ],
   "source": [
    "# check to see if the data is normally distributed\n",
    "promoted_or_not = {1:'Defaulted', 0:'Not Defaulted'}\n",
    "df_train['Status']=df_train['Status'].replace(promoted_or_not)\n",
    "\n",
    "print(df_train['Status'].value_counts(normalize=True))\n",
    "df_train['Status'].value_counts().plot(kind='bar')\n",
    "plt.title('Distribution of Defaulted vs Not Defaulted', fontsize=15)\n",
    "plt.show() #From the result shown below, the accuracy we want to improve is approximately 0.64, i.e. 64%"
   ]
  },
  {
   "cell_type": "code",
   "execution_count": 16,
   "metadata": {},
   "outputs": [
    {
     "data": {
      "text/plain": [
       "<matplotlib.axes._subplots.AxesSubplot at 0x22224646048>"
      ]
     },
     "execution_count": 16,
     "metadata": {},
     "output_type": "execute_result"
    },
    {
     "data": {
      "image/png": "[encoded data removed]",
      "text/plain": [
       "<Figure size 504x504 with 1 Axes>"
      ]
     },
     "metadata": {},
     "output_type": "display_data"
    }
   ],
   "source": [
    "#analyse term days\n",
    "sns.set(rc={'figure.figsize':(7,7)})\n",
    "sns.countplot(x= 'bank_account_type', data = df_train)"
   ]
  },
  {
   "cell_type": "code",
   "execution_count": 17,
   "metadata": {},
   "outputs": [
    {
     "data": {
      "text/plain": [
       "<matplotlib.axes._subplots.AxesSubplot at 0x222246b4f88>"
      ]
     },
     "execution_count": 17,
     "metadata": {},
     "output_type": "execute_result"
    },
    {
     "data": {
      "image/png": "[encoded data removed]",
      "text/plain": [
       "<Figure size 504x504 with 1 Axes>"
      ]
     },
     "metadata": {},
     "output_type": "display_data"
    }
   ],
   "source": [
    "#analyse term days\n",
    "sns.set(rc={'figure.figsize':(7,7)})\n",
    "sns.countplot(x= 'termdays', data = df_train)"
   ]
  },
  {
   "cell_type": "code",
   "execution_count": 18,
   "metadata": {},
   "outputs": [
    {
     "data": {
      "text/plain": [
       "<matplotlib.axes._subplots.AxesSubplot at 0x22224717ac8>"
      ]
     },
     "execution_count": 18,
     "metadata": {},
     "output_type": "execute_result"
    },
    {
     "data": {
      "image/png": "[encoded data removed]",
      "text/plain": [
       "<Figure size 504x504 with 1 Axes>"
      ]
     },
     "metadata": {},
     "output_type": "display_data"
    }
   ],
   "source": [
    "#analyse employment status clients\n",
    "sns.set(rc={'figure.figsize':(7,7)})\n",
    "sns.countplot(x= 'employment_status_clients', data = df_train)"
   ]
  },
  {
   "cell_type": "code",
   "execution_count": 19,
   "metadata": {},
   "outputs": [
    {
     "data": {
      "text/plain": [
       "<matplotlib.axes._subplots.AxesSubplot at 0x2222477b248>"
      ]
     },
     "execution_count": 19,
     "metadata": {},
     "output_type": "execute_result"
    },
    {
     "data": {
      "image/png": "[encoded data removed]",
      "text/plain": [
       "<Figure size 1800x504 with 1 Axes>"
      ]
     },
     "metadata": {},
     "output_type": "display_data"
    }
   ],
   "source": [
    "#analyse bank name of clients\n",
    "sns.set(rc={'figure.figsize':(25,7)})\n",
    "sns.countplot(x= 'bank_name_clients', data = df_train)"
   ]
  },
  {
   "cell_type": "code",
   "execution_count": 20,
   "metadata": {},
   "outputs": [
    {
     "data": {
      "text/plain": [
       "<matplotlib.axes._subplots.AxesSubplot at 0x2222476b808>"
      ]
     },
     "execution_count": 20,
     "metadata": {},
     "output_type": "execute_result"
    },
    {
     "data": {
      "image/png": "[encoded data removed]",
      "text/plain": [
       "<Figure size 504x504 with 1 Axes>"
      ]
     },
     "metadata": {},
     "output_type": "display_data"
    }
   ],
   "source": [
    "#analyse educational background\n",
    "sns.set(rc={'figure.figsize':(7,7)})\n",
    "sns.countplot(x= 'level_of_education_clients', data = df_train)"
   ]
  },
  {
   "cell_type": "code",
   "execution_count": 21,
   "metadata": {},
   "outputs": [
    {
     "data": {
      "text/plain": [
       "<matplotlib.axes._subplots.AxesSubplot at 0x22224860b48>"
      ]
     },
     "execution_count": 21,
     "metadata": {},
     "output_type": "execute_result"
    },
    {
     "data": {
      "image/png": "[encoded data removed]",
      "text/plain": [
       "<Figure size 504x504 with 1 Axes>"
      ]
     },
     "metadata": {},
     "output_type": "display_data"
    }
   ],
   "source": [
    "#default based on level employment_status_clients\n",
    "sns.countplot(x='Status', hue='employment_status_clients', data=df_train)"
   ]
  },
  {
   "cell_type": "code",
   "execution_count": 22,
   "metadata": {},
   "outputs": [
    {
     "data": {
      "text/plain": [
       "<matplotlib.axes._subplots.AxesSubplot at 0x222248d6d08>"
      ]
     },
     "execution_count": 22,
     "metadata": {},
     "output_type": "execute_result"
    },
    {
     "data": {
      "image/png": "[encoded data removed]",
      "text/plain": [
       "<Figure size 504x504 with 1 Axes>"
      ]
     },
     "metadata": {},
     "output_type": "display_data"
    }
   ],
   "source": [
    "#default based on level of education of clients\n",
    "sns.countplot(x='Status', hue='level_of_education_clients', data=df_train)"
   ]
  },
  {
   "cell_type": "code",
   "execution_count": 23,
   "metadata": {},
   "outputs": [
    {
     "data": {
      "text/plain": [
       "<matplotlib.axes._subplots.AxesSubplot at 0x222249678c8>"
      ]
     },
     "execution_count": 23,
     "metadata": {},
     "output_type": "execute_result"
    },
    {
     "data": {
      "image/png": "[encoded data removed]",
      "text/plain": [
       "<Figure size 504x504 with 1 Axes>"
      ]
     },
     "metadata": {},
     "output_type": "display_data"
    }
   ],
   "source": [
    "#default based on termdays of loan\n",
    "sns.countplot(x='Status', hue='termdays', data=df_train)"
   ]
  },
  {
   "cell_type": "code",
   "execution_count": 24,
   "metadata": {},
   "outputs": [],
   "source": [
    "# convert the status strings back to boolean values i.e. 1 and 0\n",
    "promoted_or_not = {'Defaulted':1, 'Not Defaulted':0}\n",
    "df_train['Status']=df_train['Status'].replace(promoted_or_not)"
   ]
  },
  {
   "cell_type": "code",
   "execution_count": 25,
   "metadata": {},
   "outputs": [
    {
     "data": {
      "text/plain": [
       "Index(['customerid', 'systemloanid', 'loannumber', 'loanamount', 'totaldue',\n",
       "       'termdays', 'closeddate', 'referredby', 'Convert_creationdate',\n",
       "       'Convert_approved_date', 'Convert_firstduedate',\n",
       "       'Convert_firstrepaiddate', 'bank_account_type', 'longitude_gps',\n",
       "       'latitude_gps', 'bank_name_clients', 'employment_status_clients',\n",
       "       'level_of_education_clients', 'Age', 'Status'],\n",
       "      dtype='object')"
      ]
     },
     "execution_count": 25,
     "metadata": {},
     "output_type": "execute_result"
    }
   ],
   "source": [
    "df_train.columns"
   ]
  },
  {
   "cell_type": "code",
   "execution_count": 26,
   "metadata": {},
   "outputs": [],
   "source": [
    "'''The following features were not considered because they have very small impact in predicting the status of a customer.\n",
    "These include: 'customerid', 'systemloanid', 'Convert_creationdate',\n",
    "       'Convert_approved_date', 'Convert_firstduedate',\n",
    "       'Convert_firstrepaiddate', 'longitude_gps',\n",
    "       'latitude_gps'\n",
    "'''\n",
    "train_cols = ['loanamount', 'totaldue', 'termdays', 'referredby',\n",
    "           'bank_account_type', 'bank_name_clients', 'employment_status_clients',\n",
    "           'level_of_education_clients', 'Age','Status']\n",
    "test_cols = ['loanamount', 'totaldue', 'termdays','referredby',\n",
    "           'bank_account_type', 'bank_name_clients', 'employment_status_clients',\n",
    "           'level_of_education_clients', 'Age']\n",
    "train_data = df_train[train_cols]\n",
    "test_data = df_test[test_cols]"
   ]
  },
  {
   "cell_type": "code",
   "execution_count": 27,
   "metadata": {},
   "outputs": [
    {
     "data": {
      "text/html": [
       "<div>\n",
       "<style scoped>\n",
       "    .dataframe tbody tr th:only-of-type {\n",
       "        vertical-align: middle;\n",
       "    }\n",
       "\n",
       "    .dataframe tbody tr th {\n",
       "        vertical-align: top;\n",
       "    }\n",
       "\n",
       "    .dataframe thead th {\n",
       "        text-align: right;\n",
       "    }\n",
       "</style>\n",
       "<table border=\"1\" class=\"dataframe\">\n",
       "  <thead>\n",
       "    <tr style=\"text-align: right;\">\n",
       "      <th></th>\n",
       "      <th>loanamount</th>\n",
       "      <th>totaldue</th>\n",
       "      <th>termdays</th>\n",
       "      <th>referredby</th>\n",
       "      <th>bank_account_type</th>\n",
       "      <th>bank_name_clients</th>\n",
       "      <th>employment_status_clients</th>\n",
       "      <th>level_of_education_clients</th>\n",
       "      <th>Age</th>\n",
       "      <th>Status</th>\n",
       "    </tr>\n",
       "  </thead>\n",
       "  <tbody>\n",
       "    <tr>\n",
       "      <td>6977</td>\n",
       "      <td>30000</td>\n",
       "      <td>36800.0</td>\n",
       "      <td>&gt;30</td>\n",
       "      <td>No_referee</td>\n",
       "      <td>Savings</td>\n",
       "      <td>Diamond Bank</td>\n",
       "      <td>Permanent</td>\n",
       "      <td>Graduate</td>\n",
       "      <td>39</td>\n",
       "      <td>0</td>\n",
       "    </tr>\n",
       "    <tr>\n",
       "      <td>10987</td>\n",
       "      <td>10000</td>\n",
       "      <td>13000.0</td>\n",
       "      <td>30</td>\n",
       "      <td>No_referee</td>\n",
       "      <td>Savings</td>\n",
       "      <td>GT Bank</td>\n",
       "      <td>Unknown</td>\n",
       "      <td>Unknown</td>\n",
       "      <td>39</td>\n",
       "      <td>0</td>\n",
       "    </tr>\n",
       "    <tr>\n",
       "      <td>9565</td>\n",
       "      <td>20000</td>\n",
       "      <td>24500.0</td>\n",
       "      <td>30</td>\n",
       "      <td>No_referee</td>\n",
       "      <td>Savings</td>\n",
       "      <td>GT Bank</td>\n",
       "      <td>Permanent</td>\n",
       "      <td>Unknown</td>\n",
       "      <td>40</td>\n",
       "      <td>0</td>\n",
       "    </tr>\n",
       "    <tr>\n",
       "      <td>4830</td>\n",
       "      <td>10000</td>\n",
       "      <td>11500.0</td>\n",
       "      <td>15</td>\n",
       "      <td>No_referee</td>\n",
       "      <td>Savings</td>\n",
       "      <td>UBA</td>\n",
       "      <td>Permanent</td>\n",
       "      <td>Unknown</td>\n",
       "      <td>39</td>\n",
       "      <td>1</td>\n",
       "    </tr>\n",
       "    <tr>\n",
       "      <td>9649</td>\n",
       "      <td>10000</td>\n",
       "      <td>13000.0</td>\n",
       "      <td>30</td>\n",
       "      <td>No_referee</td>\n",
       "      <td>Other</td>\n",
       "      <td>Diamond Bank</td>\n",
       "      <td>Permanent</td>\n",
       "      <td>Graduate</td>\n",
       "      <td>33</td>\n",
       "      <td>1</td>\n",
       "    </tr>\n",
       "  </tbody>\n",
       "</table>\n",
       "</div>"
      ],
      "text/plain": [
       "       loanamount  totaldue termdays  referredby bank_account_type  \\\n",
       "6977        30000   36800.0      >30  No_referee           Savings   \n",
       "10987       10000   13000.0       30  No_referee           Savings   \n",
       "9565        20000   24500.0       30  No_referee           Savings   \n",
       "4830        10000   11500.0       15  No_referee           Savings   \n",
       "9649        10000   13000.0       30  No_referee             Other   \n",
       "\n",
       "      bank_name_clients employment_status_clients level_of_education_clients  \\\n",
       "6977       Diamond Bank                 Permanent                   Graduate   \n",
       "10987           GT Bank                   Unknown                    Unknown   \n",
       "9565            GT Bank                 Permanent                    Unknown   \n",
       "4830                UBA                 Permanent                    Unknown   \n",
       "9649       Diamond Bank                 Permanent                   Graduate   \n",
       "\n",
       "       Age  Status  \n",
       "6977    39       0  \n",
       "10987   39       0  \n",
       "9565    40       0  \n",
       "4830    39       1  \n",
       "9649    33       1  "
      ]
     },
     "execution_count": 27,
     "metadata": {},
     "output_type": "execute_result"
    }
   ],
   "source": [
    "train_data.sample(5) #select 5 rows randomly"
   ]
  },
  {
   "cell_type": "code",
   "execution_count": 28,
   "metadata": {},
   "outputs": [],
   "source": [
    "## dummify the categorical features\n",
    "cols = ['termdays', 'referredby', 'bank_account_type', 'bank_name_clients', \n",
    "        'employment_status_clients', 'level_of_education_clients']\n",
    "train = pd.get_dummies(train_data, columns =cols, prefix_sep='__', drop_first=True)  # the seperator between the prefix (column name) and cell value\n",
    "test = pd.get_dummies(test_data, columns =cols, prefix_sep='__', drop_first=True)  # the seperator between the prefix (column name) and cell value"
   ]
  },
  {
   "cell_type": "code",
   "execution_count": 29,
   "metadata": {},
   "outputs": [
    {
     "data": {
      "text/plain": [
       "loanamount                                   0.007081\n",
       "totaldue                                     0.014194\n",
       "Age                                         -0.002689\n",
       "Status                                       1.000000\n",
       "termdays__30                                -0.025755\n",
       "                                               ...   \n",
       "employment_status_clients__Self-Employed     0.046216\n",
       "employment_status_clients__Unknown          -0.011437\n",
       "level_of_education_clients__Post-Graduate   -0.007098\n",
       "level_of_education_clients__Secondary        0.040090\n",
       "level_of_education_clients__Unknown         -0.029226\n",
       "Name: Status, Length: 431, dtype: float64"
      ]
     },
     "execution_count": 29,
     "metadata": {},
     "output_type": "execute_result"
    }
   ],
   "source": [
    "'''correlation of the target feature with all the features. This is now possible since all categorical \n",
    "features have been converted to numerical values\n",
    "'''\n",
    "train.corr()['Status'] # the loan number and loanamount have almost the same correlation"
   ]
  },
  {
   "cell_type": "code",
   "execution_count": 30,
   "metadata": {},
   "outputs": [],
   "source": [
    "# create Array for the Features and Target variables\n",
    "x1 = train.drop('Status', axis=1).values \n",
    "y1 = train['Status'].values"
   ]
  },
  {
   "cell_type": "markdown",
   "metadata": {},
   "source": [
    "### Trying out Model Validation Techniques"
   ]
  },
  {
   "cell_type": "code",
   "execution_count": 31,
   "metadata": {},
   "outputs": [],
   "source": [
    "#import needed libraries\n",
    "from sklearn.model_selection import train_test_split, cross_val_score, KFold, StratifiedKFold, LeaveOneOut, ShuffleSplit\n",
    "from sklearn.linear_model import LogisticRegression"
   ]
  },
  {
   "cell_type": "markdown",
   "metadata": {},
   "source": [
    "#### Holdout Validation Approach - Train and Test Set Split"
   ]
  },
  {
   "cell_type": "code",
   "execution_count": 32,
   "metadata": {},
   "outputs": [
    {
     "name": "stdout",
     "output_type": "stream",
     "text": [
      "Accuracy: 63.32%\n"
     ]
    }
   ],
   "source": [
    "# Evaluate using a train and a test set\n",
    "X_train, X_test, Y_train, Y_test = train_test_split(x1, y1, test_size=0.30, random_state=100)\n",
    "model = LogisticRegression()\n",
    "model.fit(X_train, Y_train)\n",
    "result = model.score(X_test, Y_test)\n",
    "print(\"Accuracy: %.2f%%\" % (result*100.0))"
   ]
  },
  {
   "cell_type": "markdown",
   "metadata": {},
   "source": [
    "#### K-fold Cross-Validation\n"
   ]
  },
  {
   "cell_type": "code",
   "execution_count": 33,
   "metadata": {},
   "outputs": [
    {
     "name": "stdout",
     "output_type": "stream",
     "text": [
      "Accuracy: 63.89%\n"
     ]
    }
   ],
   "source": [
    "kfold = KFold(n_splits=10, random_state=100)\n",
    "model_kfold = LogisticRegression()\n",
    "results_kfold = cross_val_score(model_kfold, x1, y1, cv=kfold)\n",
    "print(\"Accuracy: %.2f%%\" % (results_kfold.mean()*100.0))"
   ]
  },
  {
   "cell_type": "markdown",
   "metadata": {},
   "source": [
    "#### Stratified K-fold Cross-Validation\n"
   ]
  },
  {
   "cell_type": "code",
   "execution_count": 34,
   "metadata": {},
   "outputs": [
    {
     "name": "stdout",
     "output_type": "stream",
     "text": [
      "Accuracy: 63.90%\n"
     ]
    }
   ],
   "source": [
    "skfold = StratifiedKFold(n_splits=3, random_state=100)\n",
    "model_skfold = LogisticRegression()\n",
    "results_skfold = cross_val_score(model_skfold, x1, y1, cv=skfold)\n",
    "print(\"Accuracy: %.2f%%\" % (results_skfold.mean()*100.0))"
   ]
  },
  {
   "cell_type": "markdown",
   "metadata": {},
   "source": [
    "#### Repeated Random Test-Train Splits\n"
   ]
  },
  {
   "cell_type": "code",
   "execution_count": 35,
   "metadata": {},
   "outputs": [
    {
     "name": "stdout",
     "output_type": "stream",
     "text": [
      "Accuracy: 63.87% (0.45%)\n"
     ]
    }
   ],
   "source": [
    "kfold2 = ShuffleSplit(n_splits=10, test_size=0.30, random_state=100)\n",
    "model_shufflecv = LogisticRegression()\n",
    "results_4 = cross_val_score(model_shufflecv, x1, y1, cv=kfold2)\n",
    "print(\"Accuracy: %.2f%% (%.2f%%)\" % (results_4.mean()*100.0, results_4.std()*100.0))"
   ]
  },
  {
   "cell_type": "markdown",
   "metadata": {},
   "source": [
    "Conclusion\n",
    "We have applied various model validation techniques using scikit-learn. \n",
    "The mean accuracy result for the various techniques is summarised below:\n",
    "\n",
    "Holdout Validation Approach: Accuracy of 63.32%\n",
    "K-fold Cross-Validation: Mean Accuracy of 63.89%\n",
    "Stratified K-fold Cross-Validation: Mean Accuracy of 63.90%\n",
    "Repeated Random Test-Train Splits: Mean Accuracy of 63.87%\n",
    "We can conclude that the cross-validation technique improves the performance of the model \n",
    "and is a better model validation strategy. The model can be further improved by doing \n",
    "exploratory data analysis, data pre-processing, feature engineering, or trying out other \n",
    "machine learning algorithms instead of the logistic regression algorithm we built in this guide."
   ]
  },
  {
   "cell_type": "code",
   "execution_count": null,
   "metadata": {},
   "outputs": [],
   "source": []
  }
 ],
 "metadata": {
  "kernelspec": {
   "display_name": "Python 3",
   "language": "python",
   "name": "python3"
  },
  "language_info": {
   "codemirror_mode": {
    "name": "ipython",
    "version": 3
   },
   "file_extension": ".py",
   "mimetype": "text/x-python",
   "name": "python",
   "nbconvert_exporter": "python",
   "pygments_lexer": "ipython3",
   "version": "3.7.4"
  }
 },
 "nbformat": 4,
 "nbformat_minor": 2
}
